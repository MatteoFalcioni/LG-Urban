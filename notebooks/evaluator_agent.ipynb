{
 "cells": [
  {
   "cell_type": "markdown",
   "id": "6f34ba9e",
   "metadata": {},
   "source": [
    "## Evaluator Agent\n",
    "\n",
    "Here we want to implement an agent that validates the analysis of the data analyst based on the sources. \n",
    "\n",
    "A simple reference to do it quickly: https://docs.langchain.com/oss/python/langgraph/workflows-agents#evaluator-optimizer"
   ]
  },
  {
   "cell_type": "markdown",
   "id": "b5ed32a8",
   "metadata": {},
   "source": [
    "## Brainstorm\n",
    "\n",
    "This evaluator should look at the sources, which will contain metadata like urls, description. \n",
    "\n",
    "Maybe we give online search as well to validate those data? Does it only look at the sources and the chat history or does it also look at the python code written? \n"
   ]
  }
 ],
 "metadata": {
  "language_info": {
   "name": "python"
  }
 },
 "nbformat": 4,
 "nbformat_minor": 5
}
