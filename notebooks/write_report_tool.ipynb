{
 "cells": [
  {
   "cell_type": "markdown",
   "id": "326f9c9c",
   "metadata": {},
   "source": [
    "# Implementing the `write_report()` tool and testing it out"
   ]
  },
  {
   "cell_type": "markdown",
   "id": "44c2df0d",
   "metadata": {},
   "source": [
    "## Brainstorming\n",
    "\n",
    "\n",
    "\n",
    "We want the model to be able to produce a report of the analysis performed. \n",
    "\n",
    "What it should do:\n",
    "\n",
    "1. *Get the full chat history in order to see al relevant analysis performed*\n",
    "    \n",
    "    **challenges:** \n",
    "\n",
    "    - If chat gets summarized, previous analysis are blurred out. We need detailed history, but at the same time we cannot input more than a certain number of tokens to the model that produces the analysis. \n",
    "    \n",
    "    **solutions:**\n",
    "\n",
    "    - we need to keep the full chat state somewhere when we summarize. Maybe store it in state. Could be a long `analysis` str, or could be a virtual file in the virtual file system. Then the `write_report()` tool could split the full history in sections in order not to exceed context length.     \n",
    "\n",
    "2. *Collect all sources used - meaning, the list of all datasets analized*\n",
    "    \n",
    "    **challenges:**\n",
    "\n",
    "    - We have to keep track of all used datasets.\n",
    "    \n",
    "    **solutions:**\n",
    "    \n",
    "    - Just add a state var `sources`; it gets filled every time we **select** a dataset with the `select_dataset` tool. The model that writes the report can then cite the source throughout the report, understanding when it was used from chat history.\n",
    "\n",
    "3. *Produce an extensive report (.md format probably)*\n",
    "\n",
    "----\n",
    "\n",
    "> **? Should the report include python code ?**\n",
    ">\n",
    "> It could be useful to include in the report - or somewhere else - all python code written during the analysis. \n",
    "> If could be a section/appendyx in the report, or a separate file that the user can ask to be given. \n",
    "> or simply another state str that gets filled up anytime the code exec runs - then we manually combine it into an appendyx in the report. i Just don't want it to be like 3000 lines at the end of the report. maybe they should be separate files. \n",
    "\n",
    "> *DB Related:* This extra stuff needs to remain visible to the user when he goes back to previous chats - add those in the db \n"
   ]
  },
  {
   "cell_type": "markdown",
   "id": "5999d2d9",
   "metadata": {},
   "source": [
    "## Implementation, pt.1"
   ]
  },
  {
   "cell_type": "markdown",
   "id": "5674ed22",
   "metadata": {},
   "source": [
    "We will now: \n",
    "\n",
    "1. create a new state with the new state vars we need\n",
    "2. give the model a simpler repl tool that can still generate python code and get stdout and stderr - or make it fake\n",
    "3. give the model a fake select ds tool that adds the sources to state var\n",
    "4. create the real write_report() tool (and a nice prompt) for the model to use all the rest. \n",
    "5. make it write to file so we can read it.   "
   ]
  },
  {
   "cell_type": "markdown",
   "id": "0788e591",
   "metadata": {},
   "source": [
    "### 1. State Vars"
   ]
  },
  {
   "cell_type": "code",
   "execution_count": 1,
   "id": "d32becc8",
   "metadata": {},
   "outputs": [],
   "source": [
    "from langgraph.prebuilt.chat_agent_executor import AgentState\n",
    "from typing import Annotated\n",
    "\n",
    "def merge_dicts(\n",
    "    left: dict[str, str] | None = None,\n",
    "    right: dict[str, str] | None = None\n",
    ") -> dict[str, str]:\n",
    "    \"\"\"Merge two dictionaries. Left takes precedence over right. Used for reports.\"\"\"\n",
    "    if left is None:\n",
    "        left = {}\n",
    "    if right is None:\n",
    "        right = {}\n",
    "    return {**left, **right}\n",
    "\n",
    "def merge_dicts_nested(\n",
    "    left: dict[str, dict[str, str]] | None = None, \n",
    "    right: dict[str, dict[str, str]] | None = None\n",
    ") -> dict[str, dict[str, str]]:\n",
    "    \"\"\"Merge two nested dictionaries. Left takes precedence over right. Used for sources.\"\"\"\n",
    "    if left is None:\n",
    "        left = {}\n",
    "    if right is None:\n",
    "        right = {}\n",
    "    return {**left, **right}\n",
    "\n",
    "def list_add(\n",
    "    left: list[dict[str, str]] | None = None,\n",
    "    right: list[dict[str, str]] | None = None\n",
    ") -> list[dict[str, str]]:\n",
    "    \"\"\"Add a new item to a list. Used for code. No deduplication - running the same code twice is meaningful.\"\"\"\n",
    "    if left is None:\n",
    "        left = []\n",
    "    if right is None:\n",
    "        right = []\n",
    "    \n",
    "    return left + right\n",
    "\n",
    "def str_replace(\n",
    "    left: str | None,\n",
    "    right: str | None\n",
    ") -> str:\n",
    "    \"\"\"Update a string just by replacing it. Reducer needed to initialize when None\"\"\"\n",
    "    if left is None:\n",
    "        return \"\"\n",
    "    else:\n",
    "        return right\n",
    "\n",
    "def bool_replace(\n",
    "    left: bool | None,\n",
    "    right: bool | None\n",
    ") -> bool:\n",
    "    \"\"\"Update a boolean just by replacing it. Reducer needed to initialize when None\"\"\"\n",
    "    if left is None:\n",
    "        return False\n",
    "    else:\n",
    "        return right\n",
    "\n",
    "class MyState(AgentState):\n",
    "    # here we would have also summary and token count\n",
    "    sources : Annotated[dict[str, dict[str, str]], merge_dicts_nested] # key is the dataset id, value is a dict with desc, url\n",
    "    reports: Annotated[dict[str, str], merge_dicts]  # key is the title, value is the content \n",
    "    # write_report : Annotated[bool, bool_replace]\n",
    "    last_report_title : Annotated[str, str_replace]\n",
    "    edit_instructions : Annotated[str, str_replace]\n",
    "    code_logs: Annotated[list[dict[str, str]], list_add]  # list of dicts (we need chronologcal order!), each dicts is input and output of a code block (out can be stdout or stderr)"
   ]
  },
  {
   "cell_type": "markdown",
   "id": "e7a9177e",
   "metadata": {},
   "source": [
    "Will these reducers work well with left + right if they are dicts?"
   ]
  },
  {
   "cell_type": "markdown",
   "id": "6989407e",
   "metadata": {},
   "source": [
    "### 2. & 3. Fake tools"
   ]
  },
  {
   "cell_type": "code",
   "execution_count": 2,
   "id": "2e1fb610",
   "metadata": {},
   "outputs": [],
   "source": [
    "from langchain_core.tools import InjectedToolCallId, tool\n",
    "from langchain_core.messages import ToolMessage\n",
    "from langgraph.types import Command\n",
    "\n",
    "\n",
    "@tool\n",
    "def code_exec(\n",
    "    code: Annotated[str, \"The python code to execute to generate your chart.\"],\n",
    "    tool_call_id: Annotated[str, InjectedToolCallId]\n",
    ")->Command: \n",
    "    \"\"\"Use this to execute python code.\"\"\"\n",
    "\n",
    "    result = \"\"\"# code executed succesfully\"\"\"  # this would be stdout\n",
    "    code_dict = {\"input\": code, \"output\": result}\n",
    "\n",
    "    return Command(\n",
    "        update = {\n",
    "            \"messages\" : [ToolMessage(content = result, tool_call_id = tool_call_id)],\n",
    "            \"code_logs\": [code_dict], # wrap in list for reducer\n",
    "        }\n",
    "    )\n",
    "\n",
    "@tool \n",
    "def select_dataset(\n",
    "    dataset_id: str,\n",
    "    tool_call_id: Annotated[str, InjectedToolCallId]\n",
    ")->Command:\n",
    "    \"\"\"\n",
    "    Select a dataset from the list of available datasets. Adds it to the list of sources automatically.\n",
    "    \"\"\"\n",
    "\n",
    "    dataset_dict = {dataset_id: {\"desc\": \"dataset test description\", \"url\": \"dataset test url\"}}\n",
    "    return Command(\n",
    "        update = {\n",
    "            \"messages\" : [ToolMessage(content = f\"Selected and loaded dataset {dataset_id}\", tool_call_id = tool_call_id)],\n",
    "            \"sources\" : dataset_dict\n",
    "        }\n",
    "    )\n",
    "\n",
    "\n",
    "@tool\n",
    "def assign_to_report_writer(\n",
    "    reason: Annotated[str, \"Brief reason why analysis is complete and report should be written\"],\n",
    "    tool_call_id: Annotated[str, InjectedToolCallId]\n",
    ") -> Command:\n",
    "    \"\"\"\n",
    "    Assign the task to the report writer when analysis is complete. \n",
    "    Since tool assingment was not working, reverted to state flag + conditional edge\n",
    "    \"\"\"\n",
    "    \n",
    "    return Command(\n",
    "        update={\n",
    "            \"messages\": [ToolMessage(\n",
    "                content=f\"Analysis complete. {reason}. Assigning to report writer.\", \n",
    "                tool_call_id=tool_call_id\n",
    "            )],\n",
    "            \"write_report\" : True\n",
    "        }\n",
    "    )"
   ]
  },
  {
   "cell_type": "markdown",
   "id": "f5fe0aaf",
   "metadata": {},
   "source": [
    "### 4. & 5. Write report tool\n",
    "\n",
    "We can actually add interruption before the tool is called, so that the user can reject the report writing if not needed. "
   ]
  },
  {
   "cell_type": "code",
   "execution_count": 3,
   "id": "65b7165b",
   "metadata": {},
   "outputs": [],
   "source": [
    "from langgraph.prebuilt import InjectedState\n",
    "from langgraph.types import interrupt\n",
    "\n",
    "@tool\n",
    "def write_report(\n",
    "    report_title: Annotated[str, \"The title of the report\"],\n",
    "    report_content: Annotated[str, \"The content of the report\"],\n",
    "    state: Annotated[MyState, InjectedState],\n",
    "    tool_call_id: Annotated[str, InjectedToolCallId]\n",
    ")->Command:\n",
    "    \"\"\"\n",
    "    Write a report of the analysis performed.\n",
    "    \"\"\"\n",
    "\n",
    "    print(\"***using write_report***\")\n",
    "\n",
    "    # interrupt only if the writer is not editing an existing report\n",
    "    if state[\"edit_instructions\"] == \"\":\n",
    "\n",
    "        print(\"asking for report writing approval\")\n",
    "        response = interrupt(f\"The model has finished its analysis and wants to write a report. To continue, input 'yes'. To reject, input 'no'.\")\n",
    "\n",
    "        if response[\"type\"] == \"accept\":\n",
    "            pass\n",
    "        elif response[\"type\"] == \"reject\":\n",
    "            return Command(goto=\"__end__\")  # end flow\n",
    "        else:\n",
    "            raise ValueError(f\"Invalid response type: {response['type']}\")\n",
    "\n",
    "    report_dict = {report_title: report_content}\n",
    "\n",
    "    # also write to file in dev\n",
    "    with open(\"report.md\", \"w\") as f:\n",
    "        f.write(f\"# {report_title}\\n{report_content}\\n\\n\")\n",
    "        \n",
    "        # append code execution logs\n",
    "        for code_log in state[\"code_logs\"]:\n",
    "            f.write(f\"## Appendyx: code execution\\n\")\n",
    "            f.write(f\"\\n```python\\n{code_log['input']}\\n```\\n\")\n",
    "            f.write(f\"stdout:\\n```bash\\n{code_log['output']}\\n```\\n\")\n",
    "\n",
    "    return Command(\n",
    "        update = {\n",
    "            \"messages\" : [ToolMessage(content=\"Report written\", tool_call_id=tool_call_id)],\n",
    "            \"reports\" : report_dict,\n",
    "            \"last_report_title\" : report_title,\n",
    "            \"edit_instructions\" : \"\"  # clear if there were any \n",
    "        }\n",
    "    )\n",
    "\n",
    "# probably should make a modify_report() tool that can be used to add to modify an existing report\n"
   ]
  },
  {
   "cell_type": "markdown",
   "id": "230960bb",
   "metadata": {},
   "source": [
    "How should i make it add sources? first make the report than another pass for sources? A `read_sources` tool?\n",
    "\n",
    "Maybe for the moment we keep it simple and just invoke the agent on messages and sources. He will add sources at the end. "
   ]
  },
  {
   "cell_type": "markdown",
   "id": "389100a2",
   "metadata": {},
   "source": [
    "### 6. Create a well rounded prompt"
   ]
  },
  {
   "cell_type": "code",
   "execution_count": 4,
   "id": "ee915a08",
   "metadata": {},
   "outputs": [],
   "source": [
    "report_prompt = \"\"\"\n",
    "You are an AI assistant that works together with a data analyst colleague.\n",
    "\n",
    "After the data analyst performs an analysis, you will be asked to write a report of the analysis performed.\n",
    "\n",
    "In order to do so, you MUST use your `write_report()` tool. It takes 2 arguments:\n",
    "\n",
    "1. `report_title`: a string with the title of the report\n",
    "2. `report_content`: a string with the content of the report\n",
    "\n",
    "The title and the content MUST be formatted in markdown.\n",
    "\n",
    "For the content, follow these instructions:\n",
    "\n",
    "1. Do not include the title in the content. It will be added automatically.\n",
    "2. Structure the report in subsections, each with a title and a content.\n",
    "3. For each subsection, include the analysis performed in a comprehensive way, covering all the main points, and going into detail when needed.\n",
    "4. At the end of the report, add a section \"Sources\" where you list all the sources used in the analysis.\n",
    "5. NEVER include python code in the report.\n",
    "\n",
    "You may be asked either to write a new report or to revise an existing one. \n",
    "If you revise an existing report, follow the edit instructions that you will be given.\n",
    "\n",
    "In this specific run, the analysis will be short since it is a test, so write the report anyway even if you do not have enough information. Use your `write_report()` tool.\n",
    "\n",
    "\"\"\""
   ]
  },
  {
   "cell_type": "markdown",
   "id": "c053de3e",
   "metadata": {},
   "source": [
    "## Implementation, pt.2 - Graph\n",
    "\n",
    "The second part of the implementation reguards the graph structure. We want to have:\n",
    "\n",
    "1. A node that invokes the report writer on messages and sources. \n",
    "2. A *human-edit step*, where the user can edit the report if he wants.\n",
    "\n",
    "> Note: A *human-approval step*, where the user can confirm or deny the report writing, will be in the tool directly"
   ]
  },
  {
   "cell_type": "markdown",
   "id": "1bf81a82",
   "metadata": {},
   "source": [
    "### 1. Create the agents (report writer + fake analyst)\n",
    "\n",
    "First let's create our two agents, the fake analyst and the \"almost-real\" report writer. "
   ]
  },
  {
   "cell_type": "code",
   "execution_count": 5,
   "id": "5db715aa",
   "metadata": {},
   "outputs": [],
   "source": [
    "analyst_prompt = \"\"\"\n",
    "You are an AI assistant that works together with a report writing colleague.\n",
    "\n",
    "You perform analysis on the datasets at your disposal, and when the analysis is finished you route to the report writer in order to write the report.\n",
    "In order to route to the report writer, you MUST end your answer with \"WRITE REPORT\".\n",
    "\n",
    "This specific run is a test; you MUST follow these steps:\n",
    "\n",
    "1. Select the datasets \"dataset1\" and \"dataset2\" with the `select_dataset` tool\n",
    "\n",
    "2. Use your `code_exec` tool to execute this code snippet:\n",
    "```python\n",
    "# analysis code\n",
    "import pandas as pd\n",
    "\n",
    "df1 = pd.read_csv(\"dataset1.csv\")\n",
    "df2 = pd.read_csv(\"dataset2.csv\")\n",
    "\n",
    "# plot results\n",
    "plt.figure()\n",
    "plt.plot(df1[\"x\"], df1[\"y\"])\n",
    "plt.plot(df2[\"x\"], df2[\"y\"])\n",
    "plt.show()\n",
    "```\n",
    "\n",
    "3. Route to the report writer agent by ending your answer with \"WRITE REPORT\".\n",
    "\"\"\""
   ]
  },
  {
   "cell_type": "code",
   "execution_count": 6,
   "id": "4e296394",
   "metadata": {},
   "outputs": [
    {
     "name": "stderr",
     "output_type": "stream",
     "text": [
      "/tmp/ipykernel_25321/319122949.py:12: LangGraphDeprecatedSinceV10: create_react_agent has been moved to `langchain.agents`. Please update your import to `from langchain.agents import create_agent`. Deprecated in LangGraph V1.0 to be removed in V2.0.\n",
      "  report_agent = create_react_agent(\n",
      "/tmp/ipykernel_25321/319122949.py:20: LangGraphDeprecatedSinceV10: create_react_agent has been moved to `langchain.agents`. Please update your import to `from langchain.agents import create_agent`. Deprecated in LangGraph V1.0 to be removed in V2.0.\n",
      "  analyst_agent = create_react_agent(\n"
     ]
    }
   ],
   "source": [
    "from langchain_openai import ChatOpenAI\n",
    "from langchain_anthropic import ChatAnthropic\n",
    "from langgraph.prebuilt import create_react_agent\n",
    "from dotenv import load_dotenv\n",
    "\n",
    "env = load_dotenv()\n",
    "\n",
    "analyst_llm = ChatOpenAI(model=\"gpt-4.1\", temperature=0)\n",
    "report_llm = ChatAnthropic(model=\"claude-sonnet-4-5\")\n",
    "\n",
    "# report writer agent\n",
    "report_agent = create_react_agent(\n",
    "    model=report_llm,\n",
    "    prompt=report_prompt,\n",
    "    tools=[write_report],\n",
    "    state_schema=MyState\n",
    ")\n",
    "\n",
    "# analyst agent\n",
    "analyst_agent = create_react_agent(\n",
    "    model=analyst_llm,\n",
    "    prompt=analyst_prompt,\n",
    "    tools=[code_exec, select_dataset, assign_to_report_writer], \n",
    "    state_schema=MyState\n",
    ")\n"
   ]
  },
  {
   "cell_type": "code",
   "execution_count": 7,
   "id": "7ab6a588",
   "metadata": {},
   "outputs": [],
   "source": [
    "from typing import Literal\n",
    "from langgraph.graph import StateGraph, START, END\n",
    "from langchain_core.messages import HumanMessage, BaseMessage\n",
    "from langgraph.types import interrupt\n",
    "\n",
    "\n",
    "def make_graph(checkpointer):\n",
    "    \"\"\"\n",
    "    Defines nodes and edges, builds and compiles the graph\n",
    "    \"\"\"\n",
    "    # is there a better way to route to the report writer? The WIRTE REPORT str will surface on messages like this\n",
    "    # maybe give a tool `assing_to_report_writer`? \n",
    "    async def get_next_node(last_msg: BaseMessage):\n",
    "        if last_msg.content.endswith(\"WRITE REPORT\"):\n",
    "            return \"report_writer\"\n",
    "        else:\n",
    "            return \"__end__\"\n",
    "\n",
    "    async def analyst_node(state: MyState,\n",
    "    ) -> Command[Literal[\"report_writer\", \"__end__\"]]:  \n",
    "        \"\"\"\n",
    "        Invokes the analyst agent\n",
    "        \"\"\"\n",
    "        result = await analyst_agent.ainvoke(state)\n",
    "        last_msg = result[\"messages\"][-1]\n",
    "\n",
    "        # routing happens here\n",
    "        goto = await get_next_node(last_msg)\n",
    "\n",
    "        return Command(\n",
    "            update = {\n",
    "                \"messages\" : [last_msg],\n",
    "                \"code_logs\" : result.get(\"code_logs\", []),\n",
    "                \"sources\" : result.get(\"sources\", {})\n",
    "                # \"write_report\" : result.get(\"write_report\", False)  # anlayst can set this to True with the assign_to_report_writer tool\n",
    "            },\n",
    "            goto=goto\n",
    "        )\n",
    "\n",
    "    async def write_report_node(state: MyState,\n",
    "    ) -> Command[Literal[\"human_approval\"]]:\n",
    "        \"\"\"\n",
    "        Invokes the report writer agent\n",
    "        \"\"\"\n",
    "\n",
    "        if state[\"edit_instructions\"] != \"\": # edits: revise existing report\n",
    "            msg = f\"Revise the report based on the following instructions: {state['edit_instructions']}\"\n",
    "            messages = state[\"messages\"] + [HumanMessage(content=msg)]\n",
    "        else: # no edits: write a new report\n",
    "            msg = \"Write a new report based on the analysis performed and the sources used.\"\n",
    "            messages = state[\"messages\"] + [HumanMessage(content=msg)]\n",
    "\n",
    "        # invoke on full state but use messages with new sys msg\n",
    "        result = await report_agent.ainvoke({**state, \"messages\": messages})\n",
    "        last_msg = result[\"messages\"][-1]\n",
    "\n",
    "        return Command(\n",
    "            update = {  # propagate possible updates\n",
    "                \"messages\": [last_msg],\n",
    "                \"reports\": result.get(\"reports\", {}),  # Tool updated this\n",
    "                \"last_report_title\": result.get(\"last_report_title\"),  # Tool updated this\n",
    "                \"edit_instructions\": \"\"  # clear edit instructions (if there were any, report writer used them)\n",
    "            },\n",
    "            goto=\"human_approval\"\n",
    "        )\n",
    "\n",
    "    async def human_approval_node(state: MyState,\n",
    "    ) -> Command[Literal[\"report_writer\", \"__end__\"]]:\n",
    "        \"\"\"\n",
    "        Human approval step\n",
    "        \"\"\"\n",
    "        # Safety check\n",
    "        if not state[\"last_report_title\"] or state[\"last_report_title\"] not in state[\"reports\"]:\n",
    "            print(\"Error: No report has been written yet!\")\n",
    "            print(state[\"reports\"])\n",
    "            print(state[\"last_report_title\"])\n",
    "            return Command(goto=\"__end__\")\n",
    "\n",
    "        human_input = interrupt({\n",
    "            \"question\": \"The report has been generated. If you approve the report, input 'yes' - once approved, you can manually edit it. If instead you want the model to edit it, input your desired changes.\",\n",
    "            \"report\": state[\"reports\"][state[\"last_report_title\"]]\n",
    "        })\n",
    "\n",
    "        if human_input[\"type\"] == \"accept\":\n",
    "            return Command(goto=\"__end__\")\n",
    "        elif human_input[\"type\"] == \"edit\":\n",
    "            return Command(goto=\"report_writer\", update={\"edit_instructions\": human_input[\"edit_instructions\"]})\n",
    "\n",
    "\n",
    "    builder = StateGraph(MyState)\n",
    "    builder.add_node(\"analyst\", analyst_node)\n",
    "    builder.add_node(\"report_writer\", write_report_node)\n",
    "    builder.add_node(\"human_approval\", human_approval_node)\n",
    "    builder.add_edge(START, \"analyst\")\n",
    "    return builder.compile(checkpointer=checkpointer)"
   ]
  },
  {
   "cell_type": "code",
   "execution_count": 8,
   "id": "da85732d",
   "metadata": {},
   "outputs": [
    {
     "data": {
      "image/png": "[encoded data removed]",
      "text/plain": [
       "<IPython.core.display.Image object>"
      ]
     },
     "metadata": {},
     "output_type": "display_data"
    }
   ],
   "source": [
    "from langgraph.checkpoint.memory import InMemorySaver\n",
    "from IPython.display import Image, display\n",
    "\n",
    "checkpointer = InMemorySaver()\n",
    "\n",
    "graph = make_graph(checkpointer)\n",
    "\n",
    "display(Image(graph.get_graph().draw_mermaid_png()))"
   ]
  },
  {
   "cell_type": "markdown",
   "id": "357add65",
   "metadata": {},
   "source": [
    "## Test it out\n",
    "\n",
    "We need to be careful with the `Command(resume)` in graph stream, because of the interrupts."
   ]
  },
  {
   "cell_type": "markdown",
   "id": "cfc3a68d",
   "metadata": {},
   "source": [
    "Also, I need to test the approval/edit of the report."
   ]
  },
  {
   "cell_type": "code",
   "execution_count": 9,
   "id": "cbc2c7ae",
   "metadata": {},
   "outputs": [
    {
     "name": "stdout",
     "output_type": "stream",
     "text": [
      "{'analyst': {'messages': [AIMessage(content='The analysis on dataset1 and dataset2 has been completed, including loading the data and generating a comparative plot of their \"x\" and \"y\" values.\\n\\nWRITE REPORT', additional_kwargs={'refusal': None}, response_metadata={'token_usage': {'completion_tokens': 35, 'prompt_tokens': 551, 'total_tokens': 586, 'completion_tokens_details': {'accepted_prediction_tokens': 0, 'audio_tokens': 0, 'reasoning_tokens': 0, 'rejected_prediction_tokens': 0}, 'prompt_tokens_details': {'audio_tokens': 0, 'cached_tokens': 0}}, 'model_provider': 'openai', 'model_name': 'gpt-4.1-2025-04-14', 'system_fingerprint': 'fp_422e2d36a8', 'id': 'chatcmpl-CUEtqB4qQWA1TdUE1L1le43ptWLEV', 'service_tier': 'default', 'finish_reason': 'stop', 'logprobs': None}, id='lc_run--1116764c-72f8-488d-ba6d-429f5e5002a9-0', usage_metadata={'input_tokens': 551, 'output_tokens': 35, 'total_tokens': 586, 'input_token_details': {'audio': 0, 'cache_read': 0}, 'output_token_details': {'audio': 0, 'reasoning': 0}})], 'code_logs': [{'input': '# analysis code\\nimport pandas as pd\\nimport matplotlib.pyplot as plt\\n\\ndf1 = pd.read_csv(\"dataset1.csv\")\\ndf2 = pd.read_csv(\"dataset2.csv\")\\n\\n# plot results\\nplt.figure()\\nplt.plot(df1[\"x\"], df1[\"y\"])\\nplt.plot(df2[\"x\"], df2[\"y\"])\\nplt.show()', 'output': '# code executed succesfully'}], 'sources': {'dataset1': {'desc': 'dataset test description', 'url': 'dataset test url'}, 'dataset2': {'desc': 'dataset test description', 'url': 'dataset test url'}}}}\n",
      "***using write_report***\n",
      "asking for report writing approval\n",
      "{'__interrupt__': (Interrupt(value=\"The model has finished its analysis and wants to write a report. To continue, input 'yes'. To reject, input 'no'.\", id='2d26baac4db74e2a886dc96c0e3171f5'),)}\n"
     ]
    }
   ],
   "source": [
    "user_text = \"Perform analysis on dataset1 and dataset2, then write a report.\"\n",
    "state = {\"messages\": [{\"role\": \"user\", \"content\": user_text}], \"last_report_title\": \"\", \"edit_instructions\": \"\"}\n",
    "config = {\"configurable\": {\"thread_id\": \"test-123\"}}\n",
    "\n",
    "\n",
    "async for chunk in graph.astream(state, config):\n",
    "    print(chunk)\n",
    "            "
   ]
  },
  {
   "cell_type": "code",
   "execution_count": 10,
   "id": "ab5b8bed",
   "metadata": {},
   "outputs": [
    {
     "name": "stdout",
     "output_type": "stream",
     "text": [
      "messages [HumanMessage(content='Perform analysis on dataset1 and dataset2, then write a report.', additional_kwargs={}, response_metadata={}, id='4250576a-4b5c-4c44-94c7-0ede759c6e93'), AIMessage(content='The analysis on dataset1 and dataset2 has been completed, including loading the data and generating a comparative plot of their \"x\" and \"y\" values.\\n\\nWRITE REPORT', additional_kwargs={'refusal': None}, response_metadata={'token_usage': {'completion_tokens': 35, 'prompt_tokens': 551, 'total_tokens': 586, 'completion_tokens_details': {'accepted_prediction_tokens': 0, 'audio_tokens': 0, 'reasoning_tokens': 0, 'rejected_prediction_tokens': 0}, 'prompt_tokens_details': {'audio_tokens': 0, 'cached_tokens': 0}}, 'model_provider': 'openai', 'model_name': 'gpt-4.1-2025-04-14', 'system_fingerprint': 'fp_422e2d36a8', 'id': 'chatcmpl-CUEtqB4qQWA1TdUE1L1le43ptWLEV', 'service_tier': 'default', 'finish_reason': 'stop', 'logprobs': None}, id='lc_run--1116764c-72f8-488d-ba6d-429f5e5002a9-0', usage_metadata={'input_tokens': 551, 'output_tokens': 35, 'total_tokens': 586, 'input_token_details': {'audio': 0, 'cache_read': 0}, 'output_token_details': {'audio': 0, 'reasoning': 0}})]\n",
      "sources {'dataset1': {'desc': 'dataset test description', 'url': 'dataset test url'}, 'dataset2': {'desc': 'dataset test description', 'url': 'dataset test url'}}\n",
      "reports {}\n",
      "last_report_title \n",
      "edit_instructions \n",
      "code_logs [{'input': '# analysis code\\nimport pandas as pd\\nimport matplotlib.pyplot as plt\\n\\ndf1 = pd.read_csv(\"dataset1.csv\")\\ndf2 = pd.read_csv(\"dataset2.csv\")\\n\\n# plot results\\nplt.figure()\\nplt.plot(df1[\"x\"], df1[\"y\"])\\nplt.plot(df2[\"x\"], df2[\"y\"])\\nplt.show()', 'output': '# code executed succesfully'}]\n"
     ]
    }
   ],
   "source": [
    "state = graph.get_state(config)\n",
    "for key, value in state.values.items():\n",
    "    print(key, value)"
   ]
  },
  {
   "cell_type": "code",
   "execution_count": 11,
   "id": "6c713903",
   "metadata": {},
   "outputs": [
    {
     "name": "stdout",
     "output_type": "stream",
     "text": [
      "***using write_report***\n",
      "asking for report writing approval\n",
      "{'report_writer': {'messages': [AIMessage(content=\"I've successfully written a comprehensive report based on the analysis performed on dataset1 and dataset2. The report includes:\\n\\n- **Executive Summary**: Overview of the comparative analysis\\n- **Data Overview**: Description of the datasets analyzed\\n- **Analytical Approach**: Methodology used in the analysis\\n- **Key Findings**: Insights from both individual datasets and their comparison\\n- **Visualization Results**: Discussion of the comparative plot generated\\n- **Conclusions**: Summary and suggestions for further analysis\\n- **Sources**: Documentation of data sources used\\n\\nThe report is structured to provide a clear narrative of the analysis process and findings, even though this was a test analysis with limited data.\", additional_kwargs={}, response_metadata={'id': 'msg_011UcutiaqdmptbT58iVNoZZ', 'model': 'claude-sonnet-4-5-20250929', 'stop_reason': 'end_turn', 'stop_sequence': None, 'usage': {'cache_creation': {'ephemeral_1h_input_tokens': 0, 'ephemeral_5m_input_tokens': 0}, 'cache_creation_input_tokens': 0, 'cache_read_input_tokens': 0, 'input_tokens': 1609, 'output_tokens': 142, 'server_tool_use': None, 'service_tier': 'standard'}, 'model_name': 'claude-sonnet-4-5-20250929', 'model_provider': 'anthropic'}, id='lc_run--fc7d4e79-2c52-41eb-93b7-ff47c75a25c0-0', usage_metadata={'input_tokens': 1609, 'output_tokens': 142, 'total_tokens': 1751, 'input_token_details': {'cache_read': 0, 'cache_creation': 0, 'ephemeral_5m_input_tokens': 0, 'ephemeral_1h_input_tokens': 0}})], 'reports': {'# Analysis Report: Dataset1 and Dataset2 Comparison': '## Executive Summary\\n\\nThis report presents a comparative analysis of two datasets (dataset1 and dataset2). The analysis focused on examining the relationship between variables x and y across both datasets, identifying patterns, trends, and differences in the data distributions.\\n\\n## Data Overview\\n\\nThe analysis involved two primary datasets:\\n\\n- **Dataset1**: Contains paired x and y values representing the first data series\\n- **Dataset2**: Contains paired x and y values representing the second data series\\n\\nBoth datasets were structured with similar variables to enable direct comparison and evaluation of their respective characteristics.\\n\\n## Analytical Approach\\n\\nThe analysis methodology included the following steps:\\n\\n1. **Data Loading**: Both datasets were successfully loaded and prepared for analysis\\n2. **Data Exploration**: Initial examination of the data structure, variables, and basic statistics\\n3. **Comparative Visualization**: A comparative plot was generated to visualize the relationship between x and y values across both datasets\\n4. **Pattern Identification**: Analysis of trends and patterns within each dataset and across datasets\\n\\n## Key Findings\\n\\n### Dataset Characteristics\\n\\nThe comparative analysis revealed distinct characteristics for each dataset:\\n\\n- Both datasets contain numerical x and y variables that allow for quantitative comparison\\n- The datasets demonstrate their respective patterns when plotted against each other\\n- Visualization techniques enabled clear identification of similarities and differences between the two data series\\n\\n### Comparative Insights\\n\\nThe side-by-side comparison of dataset1 and dataset2 provided insights into:\\n\\n- The relationship structure between x and y variables in each dataset\\n- Potential correlations or patterns unique to each dataset\\n- Distributional differences that may indicate distinct underlying processes or phenomena\\n\\n## Visualization Results\\n\\nA comparative plot was generated to illustrate the data distributions visually. This visualization serves as a key tool for understanding:\\n\\n- The overall shape and trend of each dataset\\n- Points of convergence or divergence between the two datasets\\n- The range and distribution of values in both x and y dimensions\\n\\n## Conclusions\\n\\nThis preliminary analysis successfully compared dataset1 and dataset2, revealing their individual characteristics and relationships. The visualization provides a foundation for understanding how these datasets relate to each other and what patterns exist within each.\\n\\nFurther analysis could explore:\\n- Statistical measures of correlation and association\\n- Detailed distributional analysis\\n- Hypothesis testing to determine significant differences\\n- Deeper investigation into specific patterns or anomalies observed\\n\\n## Sources\\n\\n- Dataset1 (primary data source)\\n- Dataset2 (primary data source)\\n- Comparative visualization plot generated from both datasets'}, 'last_report_title': '# Analysis Report: Dataset1 and Dataset2 Comparison', 'edit_instructions': ''}}\n",
      "{'__interrupt__': (Interrupt(value={'question': \"The report has been generated. If you approve the report, input 'yes' - once approved, you can manually edit it. If instead you want the model to edit it, input your desired changes.\", 'report': '## Executive Summary\\n\\nThis report presents a comparative analysis of two datasets (dataset1 and dataset2). The analysis focused on examining the relationship between variables x and y across both datasets, identifying patterns, trends, and differences in the data distributions.\\n\\n## Data Overview\\n\\nThe analysis involved two primary datasets:\\n\\n- **Dataset1**: Contains paired x and y values representing the first data series\\n- **Dataset2**: Contains paired x and y values representing the second data series\\n\\nBoth datasets were structured with similar variables to enable direct comparison and evaluation of their respective characteristics.\\n\\n## Analytical Approach\\n\\nThe analysis methodology included the following steps:\\n\\n1. **Data Loading**: Both datasets were successfully loaded and prepared for analysis\\n2. **Data Exploration**: Initial examination of the data structure, variables, and basic statistics\\n3. **Comparative Visualization**: A comparative plot was generated to visualize the relationship between x and y values across both datasets\\n4. **Pattern Identification**: Analysis of trends and patterns within each dataset and across datasets\\n\\n## Key Findings\\n\\n### Dataset Characteristics\\n\\nThe comparative analysis revealed distinct characteristics for each dataset:\\n\\n- Both datasets contain numerical x and y variables that allow for quantitative comparison\\n- The datasets demonstrate their respective patterns when plotted against each other\\n- Visualization techniques enabled clear identification of similarities and differences between the two data series\\n\\n### Comparative Insights\\n\\nThe side-by-side comparison of dataset1 and dataset2 provided insights into:\\n\\n- The relationship structure between x and y variables in each dataset\\n- Potential correlations or patterns unique to each dataset\\n- Distributional differences that may indicate distinct underlying processes or phenomena\\n\\n## Visualization Results\\n\\nA comparative plot was generated to illustrate the data distributions visually. This visualization serves as a key tool for understanding:\\n\\n- The overall shape and trend of each dataset\\n- Points of convergence or divergence between the two datasets\\n- The range and distribution of values in both x and y dimensions\\n\\n## Conclusions\\n\\nThis preliminary analysis successfully compared dataset1 and dataset2, revealing their individual characteristics and relationships. The visualization provides a foundation for understanding how these datasets relate to each other and what patterns exist within each.\\n\\nFurther analysis could explore:\\n- Statistical measures of correlation and association\\n- Detailed distributional analysis\\n- Hypothesis testing to determine significant differences\\n- Deeper investigation into specific patterns or anomalies observed\\n\\n## Sources\\n\\n- Dataset1 (primary data source)\\n- Dataset2 (primary data source)\\n- Comparative visualization plot generated from both datasets'}, id='85ce20ba4f8912ff8b87992c2bc956ad'),)}\n"
     ]
    }
   ],
   "source": [
    "user_msg = \"yes\"\n",
    "if user_msg == \"yes\":\n",
    "    resume_value = {'type': 'accept'}\n",
    "else:\n",
    "    resume_value = {'type': 'reject'}\n",
    "\n",
    "async for chunk in graph.astream(Command(resume=resume_value), config):\n",
    "    print(chunk)"
   ]
  },
  {
   "cell_type": "code",
   "execution_count": 12,
   "id": "fee49a26",
   "metadata": {},
   "outputs": [],
   "source": [
    "state = graph.get_state(config)"
   ]
  },
  {
   "cell_type": "code",
   "execution_count": 13,
   "id": "d2ea5a7e",
   "metadata": {},
   "outputs": [
    {
     "name": "stdout",
     "output_type": "stream",
     "text": [
      "messages [HumanMessage(content='Perform analysis on dataset1 and dataset2, then write a report.', additional_kwargs={}, response_metadata={}, id='4250576a-4b5c-4c44-94c7-0ede759c6e93'), AIMessage(content='The analysis on dataset1 and dataset2 has been completed, including loading the data and generating a comparative plot of their \"x\" and \"y\" values.\\n\\nWRITE REPORT', additional_kwargs={'refusal': None}, response_metadata={'token_usage': {'completion_tokens': 35, 'prompt_tokens': 551, 'total_tokens': 586, 'completion_tokens_details': {'accepted_prediction_tokens': 0, 'audio_tokens': 0, 'reasoning_tokens': 0, 'rejected_prediction_tokens': 0}, 'prompt_tokens_details': {'audio_tokens': 0, 'cached_tokens': 0}}, 'model_provider': 'openai', 'model_name': 'gpt-4.1-2025-04-14', 'system_fingerprint': 'fp_422e2d36a8', 'id': 'chatcmpl-CUEtqB4qQWA1TdUE1L1le43ptWLEV', 'service_tier': 'default', 'finish_reason': 'stop', 'logprobs': None}, id='lc_run--1116764c-72f8-488d-ba6d-429f5e5002a9-0', usage_metadata={'input_tokens': 551, 'output_tokens': 35, 'total_tokens': 586, 'input_token_details': {'audio': 0, 'cache_read': 0}, 'output_token_details': {'audio': 0, 'reasoning': 0}}), AIMessage(content=\"I've successfully written a comprehensive report based on the analysis performed on dataset1 and dataset2. The report includes:\\n\\n- **Executive Summary**: Overview of the comparative analysis\\n- **Data Overview**: Description of the datasets analyzed\\n- **Analytical Approach**: Methodology used in the analysis\\n- **Key Findings**: Insights from both individual datasets and their comparison\\n- **Visualization Results**: Discussion of the comparative plot generated\\n- **Conclusions**: Summary and suggestions for further analysis\\n- **Sources**: Documentation of data sources used\\n\\nThe report is structured to provide a clear narrative of the analysis process and findings, even though this was a test analysis with limited data.\", additional_kwargs={}, response_metadata={'id': 'msg_011UcutiaqdmptbT58iVNoZZ', 'model': 'claude-sonnet-4-5-20250929', 'stop_reason': 'end_turn', 'stop_sequence': None, 'usage': {'cache_creation': {'ephemeral_1h_input_tokens': 0, 'ephemeral_5m_input_tokens': 0}, 'cache_creation_input_tokens': 0, 'cache_read_input_tokens': 0, 'input_tokens': 1609, 'output_tokens': 142, 'server_tool_use': None, 'service_tier': 'standard'}, 'model_name': 'claude-sonnet-4-5-20250929', 'model_provider': 'anthropic'}, id='lc_run--fc7d4e79-2c52-41eb-93b7-ff47c75a25c0-0', usage_metadata={'input_tokens': 1609, 'output_tokens': 142, 'total_tokens': 1751, 'input_token_details': {'cache_creation': 0, 'cache_read': 0, 'ephemeral_5m_input_tokens': 0, 'ephemeral_1h_input_tokens': 0}})]\n",
      "sources {'dataset1': {'desc': 'dataset test description', 'url': 'dataset test url'}, 'dataset2': {'desc': 'dataset test description', 'url': 'dataset test url'}}\n",
      "reports {'# Analysis Report: Dataset1 and Dataset2 Comparison': '## Executive Summary\\n\\nThis report presents a comparative analysis of two datasets (dataset1 and dataset2). The analysis focused on examining the relationship between variables x and y across both datasets, identifying patterns, trends, and differences in the data distributions.\\n\\n## Data Overview\\n\\nThe analysis involved two primary datasets:\\n\\n- **Dataset1**: Contains paired x and y values representing the first data series\\n- **Dataset2**: Contains paired x and y values representing the second data series\\n\\nBoth datasets were structured with similar variables to enable direct comparison and evaluation of their respective characteristics.\\n\\n## Analytical Approach\\n\\nThe analysis methodology included the following steps:\\n\\n1. **Data Loading**: Both datasets were successfully loaded and prepared for analysis\\n2. **Data Exploration**: Initial examination of the data structure, variables, and basic statistics\\n3. **Comparative Visualization**: A comparative plot was generated to visualize the relationship between x and y values across both datasets\\n4. **Pattern Identification**: Analysis of trends and patterns within each dataset and across datasets\\n\\n## Key Findings\\n\\n### Dataset Characteristics\\n\\nThe comparative analysis revealed distinct characteristics for each dataset:\\n\\n- Both datasets contain numerical x and y variables that allow for quantitative comparison\\n- The datasets demonstrate their respective patterns when plotted against each other\\n- Visualization techniques enabled clear identification of similarities and differences between the two data series\\n\\n### Comparative Insights\\n\\nThe side-by-side comparison of dataset1 and dataset2 provided insights into:\\n\\n- The relationship structure between x and y variables in each dataset\\n- Potential correlations or patterns unique to each dataset\\n- Distributional differences that may indicate distinct underlying processes or phenomena\\n\\n## Visualization Results\\n\\nA comparative plot was generated to illustrate the data distributions visually. This visualization serves as a key tool for understanding:\\n\\n- The overall shape and trend of each dataset\\n- Points of convergence or divergence between the two datasets\\n- The range and distribution of values in both x and y dimensions\\n\\n## Conclusions\\n\\nThis preliminary analysis successfully compared dataset1 and dataset2, revealing their individual characteristics and relationships. The visualization provides a foundation for understanding how these datasets relate to each other and what patterns exist within each.\\n\\nFurther analysis could explore:\\n- Statistical measures of correlation and association\\n- Detailed distributional analysis\\n- Hypothesis testing to determine significant differences\\n- Deeper investigation into specific patterns or anomalies observed\\n\\n## Sources\\n\\n- Dataset1 (primary data source)\\n- Dataset2 (primary data source)\\n- Comparative visualization plot generated from both datasets'}\n",
      "last_report_title # Analysis Report: Dataset1 and Dataset2 Comparison\n",
      "edit_instructions \n",
      "code_logs [{'input': '# analysis code\\nimport pandas as pd\\nimport matplotlib.pyplot as plt\\n\\ndf1 = pd.read_csv(\"dataset1.csv\")\\ndf2 = pd.read_csv(\"dataset2.csv\")\\n\\n# plot results\\nplt.figure()\\nplt.plot(df1[\"x\"], df1[\"y\"])\\nplt.plot(df2[\"x\"], df2[\"y\"])\\nplt.show()', 'output': '# code executed succesfully'}]\n"
     ]
    }
   ],
   "source": [
    "for key, value in state.values.items():\n",
    "    print(key, value)"
   ]
  },
  {
   "cell_type": "code",
   "execution_count": 14,
   "id": "0b6fe417",
   "metadata": {},
   "outputs": [
    {
     "name": "stdout",
     "output_type": "stream",
     "text": [
      "{'human_approval': None}\n"
     ]
    }
   ],
   "source": [
    "user_msg = \"accept\"\n",
    "if user_msg == \"accept\":\n",
    "    resume_value = {'type': 'accept'}\n",
    "else:\n",
    "    resume_value = {'type': 'edit', 'edit_instructions': 'Make it less detailed'}\n",
    "\n",
    "async for chunk in graph.astream(Command(resume=resume_value), config):\n",
    "    print(chunk)"
   ]
  },
  {
   "cell_type": "markdown",
   "id": "346b7c48",
   "metadata": {},
   "source": [
    "### Note\n",
    "\n",
    "You need to propagate state updates if a tool uses Command and then you invoke in a node.\n",
    "\n",
    "How it works:\n",
    "Tool returns Command(update={...}) → Updates are applied to the agent's internal state\n",
    "Agent returns result → Contains the full updated state after all tools run\n",
    "Your node returns Command(update={...}) → Only what you specify here gets propagated to the graph's state\n",
    "\n",
    "The agent result is self-contained - it has the full state after tools ran, but it doesn't automatically merge back. You have to explicitly pass it through."
   ]
  }
 ],
 "metadata": {
  "kernelspec": {
   "display_name": "langgraph-py3.11",
   "language": "python",
   "name": "python3"
  },
  "language_info": {
   "codemirror_mode": {
    "name": "ipython",
    "version": 3
   },
   "file_extension": ".py",
   "mimetype": "text/x-python",
   "name": "python",
   "nbconvert_exporter": "python",
   "pygments_lexer": "ipython3",
   "version": "3.11.13"
  }
 },
 "nbformat": 4,
 "nbformat_minor": 5
}
